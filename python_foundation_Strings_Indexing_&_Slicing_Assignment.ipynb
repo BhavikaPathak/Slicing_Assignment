{
 "cells": [
  {
   "cell_type": "code",
   "execution_count": 1,
   "id": "a8614575-ba37-4267-a868-7c43852a4d20",
   "metadata": {},
   "outputs": [
    {
     "name": "stdout",
     "output_type": "stream",
     "text": [
      " ' \n"
     ]
    }
   ],
   "source": [
    "#                                        ANSWER 1\n",
    "variable_name = \" ' \"\n",
    "print(variable_name)"
   ]
  },
  {
   "cell_type": "code",
   "execution_count": 2,
   "id": "f53440ee-97f7-4ca8-9374-ce6d6e73daf4",
   "metadata": {},
   "outputs": [
    {
     "name": "stdout",
     "output_type": "stream",
     "text": [
      "<class 'str'>\n"
     ]
    }
   ],
   "source": [
    "#                                      ANSWER 2\n",
    "# In Python, both a single character enclosed in quotes and a string of length 1 are represented as string type variables. So, in the case of the variable x = 'a', 'x'  is a string type variable, not a character type.\n",
    "# In Python, there is no separate data type for individual characters. Instead, a single character is represented as a string of length 1. This design choice allows for consistent handling of individual characters and strings, making operations and manipulations more uniform.\n",
    "x = 'a'\n",
    "print(type(x))\n",
    "# The output confirms that the type of \"x\" is \"<class 'str'>\", indicating that it is a string type variable.\n",
    "# In Python, you can perform various string operations on \"x\" as you would with any other string, such as indexing, slicing, concatenation, and more. This consistency in treating single characters as strings simplifies coding and avoids special cases for individual characters."
   ]
  },
  {
   "cell_type": "code",
   "execution_count": 3,
   "id": "1b45d51b-a313-4520-909e-afbedaf3af21",
   "metadata": {},
   "outputs": [
    {
     "data": {
      "text/plain": [
       "4"
      ]
     },
     "execution_count": 3,
     "metadata": {},
     "output_type": "execute_result"
    }
   ],
   "source": [
    "#                                     ANSWER 3 (1)\n",
    "variable_name = \"Welcome to Python foundation course\"\n",
    "variable_name.find(\"o\")"
   ]
  },
  {
   "cell_type": "code",
   "execution_count": 4,
   "id": "16181e6a-7a55-42ca-9b76-8f74c8b1d1f6",
   "metadata": {},
   "outputs": [
    {
     "data": {
      "text/plain": [
       "3"
      ]
     },
     "execution_count": 4,
     "metadata": {},
     "output_type": "execute_result"
    }
   ],
   "source": [
    "#                                  ANSWER 3 (2)\n",
    "variable_name.count(\"e\")"
   ]
  },
  {
   "cell_type": "code",
   "execution_count": 5,
   "id": "9ebc3ef8-9776-48d3-a5e8-8c7358c6e6ba",
   "metadata": {},
   "outputs": [
    {
     "data": {
      "text/plain": [
       "35"
      ]
     },
     "execution_count": 5,
     "metadata": {},
     "output_type": "execute_result"
    }
   ],
   "source": [
    "#                                     ANSWER3 (3)\n",
    "len(variable_name)"
   ]
  },
  {
   "cell_type": "code",
   "execution_count": 6,
   "id": "4c1d59a5-9f68-450d-bc7b-3859d347bc48",
   "metadata": {},
   "outputs": [
    {
     "name": "stdout",
     "output_type": "stream",
     "text": [
      "Welcome to Python foundation course for beginners\n"
     ]
    }
   ],
   "source": [
    "#                                    ANSWER 3 (4)\n",
    "text = 'Welcome to Python foundation course'\n",
    "added_text = ' for beginners'\n",
    "concatenated = text + added_text\n",
    "print(concatenated)"
   ]
  },
  {
   "cell_type": "code",
   "execution_count": 7,
   "id": "af7fe392-7cf4-4543-a82a-541dcf5749eb",
   "metadata": {},
   "outputs": [
    {
     "name": "stdout",
     "output_type": "stream",
     "text": [
      " Total number of alphabets in lowercase :  4\n"
     ]
    }
   ],
   "source": [
    "#                                    ANSWER 4(1)\n",
    "word = 'PanaJi@12256'\n",
    "lowercase_count = sum(1 for char in word if char.islower())\n",
    "print(\" Total number of alphabets in lowercase : \",lowercase_count)"
   ]
  },
  {
   "cell_type": "code",
   "execution_count": 8,
   "id": "64579649-e8f6-4052-a512-704a573416b4",
   "metadata": {},
   "outputs": [
    {
     "name": "stdout",
     "output_type": "stream",
     "text": [
      " Total number of alphabets in uppercase :  2\n"
     ]
    }
   ],
   "source": [
    "#                                    ANSWER 4(2)\n",
    "word = 'PanaJi@12256'\n",
    "uppercase_count = sum(1 for char in word if char.isupper())\n",
    "print(\" Total number of alphabets in uppercase : \",uppercase_count)"
   ]
  },
  {
   "cell_type": "code",
   "execution_count": 9,
   "id": "ad9452a1-de76-4f0e-9ecc-ff8402c2d6f7",
   "metadata": {},
   "outputs": [
    {
     "name": "stdout",
     "output_type": "stream",
     "text": [
      " Total number of numerical in str1ng :  5\n"
     ]
    }
   ],
   "source": [
    "#                                    ANSWER 4(3)\n",
    "word = 'PanaJi@12256'\n",
    "numerical_count = sum(1 for char in word if char.isdigit())\n",
    "print(\" Total number of numerical in str1ng : \" ,numerical_count)"
   ]
  },
  {
   "cell_type": "code",
   "execution_count": 10,
   "id": "673ed09c-d5ad-4db3-b2b7-d231823fe189",
   "metadata": {},
   "outputs": [
    {
     "name": "stdout",
     "output_type": "stream",
     "text": [
      " VARIABLE IN NUMERICAL VALUE :  55 \n",
      " VERIFY THE TYPE :  <class 'int'>\n",
      " CONVERTED NUMERICAL VALUE INTO STRING :  55 \n",
      " VERIFY THE TYPE :  <class 'str'>\n"
     ]
    }
   ],
   "source": [
    "#                               ANSWER(5)\n",
    "variable_in_num = 55\n",
    "print(\" VARIABLE IN NUMERICAL VALUE : \",variable_in_num,\"\\n VERIFY THE TYPE : \",type(variable_in_num))\n",
    "variable_in_num_as_string = str(variable_in_num)\n",
    "print(\" CONVERTED NUMERICAL VALUE INTO STRING : \",variable_in_num_as_string,\"\\n VERIFY THE TYPE : \",type(variable_in_num_as_string))"
   ]
  },
  {
   "cell_type": "code",
   "execution_count": null,
   "id": "d5790eee-4228-4153-ad81-415aa53dfb5c",
   "metadata": {},
   "outputs": [],
   "source": []
  }
 ],
 "metadata": {
  "kernelspec": {
   "display_name": "Python 3 (ipykernel)",
   "language": "python",
   "name": "python3"
  },
  "language_info": {
   "codemirror_mode": {
    "name": "ipython",
    "version": 3
   },
   "file_extension": ".py",
   "mimetype": "text/x-python",
   "name": "python",
   "nbconvert_exporter": "python",
   "pygments_lexer": "ipython3",
   "version": "3.10.6"
  }
 },
 "nbformat": 4,
 "nbformat_minor": 5
}
